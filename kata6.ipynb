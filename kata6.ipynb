{
 "cells": [
  {
   "cell_type": "markdown",
   "metadata": {},
   "source": [
    "# Kata 6"
   ]
  },
  {
   "cell_type": "markdown",
   "metadata": {},
   "source": [
    "Las listas permiten almacenar varios valores en una sola variable. Comenzarás un proyecto sobre información planetaria creando una lista de planetas.\n",
    "\n",
    "TIP Dedica unos minutos para tratar de encontrar una solución. Luego desplázate hacia abajo hasta la parte inferior para ver si has logrado compilar el programa de acuerdo con las especificaciones\n",
    "\n",
    "En primer lugar, crea una variable denominada planets. Agrega los ocho planetas (sin Plutón) a la lista. A continuación, muestra el número de planetas."
   ]
  },
  {
   "cell_type": "code",
   "execution_count": 2,
   "metadata": {},
   "outputs": [
    {
     "name": "stdout",
     "output_type": "stream",
     "text": [
      "Hay  8  planetas\n"
     ]
    }
   ],
   "source": [
    "planetas = ['Mercurio', 'Venus', 'Tierra', 'Marte', 'Jupiter', 'Saturno', 'Urano', 'Neptuno']\n",
    "print('Hay ', len(planets), ' planetas')"
   ]
  },
  {
   "cell_type": "code",
   "execution_count": 3,
   "metadata": {},
   "outputs": [
    {
     "name": "stdout",
     "output_type": "stream",
     "text": [
      "Plutón es el último planeta agregado en la lista\n"
     ]
    }
   ],
   "source": [
    "# Agrega a Plutón a la lista que creaste. Luego muestra tanto el número de planetas como el último planeta de la lista.\n",
    "planetas.append('Plutón')\n",
    "print(planetas[-1], 'es el último planeta agregado en la lista')"
   ]
  },
  {
   "cell_type": "markdown",
   "metadata": {},
   "source": [
    "Usar slices para recuperar partes de una lista\n",
    "Es posible que debas trabajar con diferentes secciones de una lista. En nuestro ejemplo, queremos mostrar planetas más cerca y más lejos del sol de un planeta que el usuario ingresa por teclado.\n",
    "\n",
    "Comienza agregando el código para crear una lista con los planetas."
   ]
  },
  {
   "cell_type": "code",
   "execution_count": 6,
   "metadata": {},
   "outputs": [
    {
     "name": "stdout",
     "output_type": "stream",
     "text": [
      "Planetas cercanos al sol: Marte\n",
      "['Mercurio', 'Venus', 'Tierra']\n",
      "Planetas más alejados al sol: Marte\n",
      "['Jupiter', 'Saturno', 'Urano', 'Neptuno', 'Plutón']\n"
     ]
    }
   ],
   "source": [
    "# Solicita al usuario el nombre de un planeta\n",
    "# A continuación, agrega el código para solicitar al usuario un nombre. \n",
    "# Debido a que las cadenas distinguen entre mayúsculas y minúsculas en Python, pídale al usuario que use una letra mayúscula para comenzar el nombre del planeta.\n",
    "planetas = ['Mercurio', 'Venus', 'Tierra', 'Marte', 'Jupiter', 'Saturno', 'Urano', 'Neptuno', 'Plutón']\n",
    "\n",
    "# Solicitamos el nombre de un planeta *Pista:  input()*\n",
    "# Encuentra el planeta en la lista\n",
    "#P ara determinar qué planetas están más cerca que el que ingresó el usuario, debes encontrar dónde está el planeta en la lista. \n",
    "# Puedes utilizar index para realizar esta operación. Agrega el código para encontrar el índice del planeta.\n",
    "planetaBuscado = input('Ingresa el nombre de un planeta para buscarlo, inicie con mayúscula')\n",
    "\n",
    "# Busca el planeta en la lista\n",
    "# Mostrar planetas más cercanos al sol que el que el usuario ingresó\n",
    "# Con el índice determinado, ahora puedes agregar el código para mostrar los planetas más cercanos al sol.\n",
    "indicePlaneta = planetas.index(planetaBuscado)\n",
    "\n",
    "# Muestra los planetas más cercanos al sol\n",
    "print('Planetas cercanos al sol: ' + planetaBuscado)\n",
    "print(planetas[0:indicePlaneta])\n",
    "\n",
    "# Mostrar planetas más alejados del sol que el que el usuario ingresó\n",
    "# Puedes usar el mismo índice para mostrar planetas más alejados del sol. \n",
    "# Sin embargo, recuerda que el índice inicial se incluye cuando usas un slice. \n",
    "# Como resultado, tendrás que agregar 1 al valor. Agrega el código para mostrar los planetas más alejados del sol.\n",
    "print('Planetas más alejados al sol: ' + planetaBuscado)\n",
    "print(planetas[indicePlaneta + 1:])"
   ]
  }
 ],
 "metadata": {
  "interpreter": {
   "hash": "1871206f4ba1b5198d3cd7c957699bf88afce606f1f605cc742ab85bcf6fb622"
  },
  "kernelspec": {
   "display_name": "Python 3.10.2 64-bit",
   "language": "python",
   "name": "python3"
  },
  "language_info": {
   "codemirror_mode": {
    "name": "ipython",
    "version": 3
   },
   "file_extension": ".py",
   "mimetype": "text/x-python",
   "name": "python",
   "nbconvert_exporter": "python",
   "pygments_lexer": "ipython3",
   "version": "3.10.2"
  },
  "orig_nbformat": 4
 },
 "nbformat": 4,
 "nbformat_minor": 2
}
