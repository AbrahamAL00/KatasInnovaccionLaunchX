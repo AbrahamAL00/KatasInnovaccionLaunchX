{
 "cells": [
  {
   "cell_type": "markdown",
   "metadata": {},
   "source": [
    "# Kata 5"
   ]
  },
  {
   "cell_type": "markdown",
   "metadata": {},
   "source": [
    "### Utilizar operadores aritméticos"
   ]
  },
  {
   "cell_type": "code",
   "execution_count": 3,
   "metadata": {},
   "outputs": [
    {
     "name": "stdout",
     "output_type": "stream",
     "text": [
      "Distancia en kilómetros: 628949330 km\n",
      "Distancia en Millas: 390577533.93 mi\n"
     ]
    }
   ],
   "source": [
    "# Crear un programa que pueda calcular la distancia entre dos planetas. \n",
    "# Comenzaremos usando dos distancias de planetas: Tierra (149.597.870 km) y Júpiter (778.547.200 km).\n",
    "\n",
    "primerPlaneta = 149597870\n",
    "segundoPlaneta = 778547200\n",
    "\n",
    "\n",
    "# Realizar la operación\n",
    "# Con los valores obtenidos, es el momento de añadir el código para realizar la operación. \n",
    "# Restarás el primer planeta del segundo para determinar la distancia en kilómetros.\n",
    "#  A continuación, puedes convertir la distancia del kilómetro en millas multiplicándola por 0.621.\n",
    "\n",
    "disntanciaKm = segundoPlaneta - primerPlaneta\n",
    "print(f'Distancia en kilómetros: {disntanciaKm} km')\n",
    "disntanciaMi = disntanciaKm * 0.621\n",
    "print(f'Distancia en Millas: {disntanciaMi} mi')"
   ]
  },
  {
   "cell_type": "markdown",
   "metadata": {},
   "source": [
    "### Convierte cadenas en números y usa valores absolutos"
   ]
  },
  {
   "cell_type": "code",
   "execution_count": 5,
   "metadata": {},
   "outputs": [
    {
     "name": "stdout",
     "output_type": "stream",
     "text": [
      "Distancia en kilómetros: 50300000 km\n",
      "Distancia en Millas: 31236300.0 mi\n"
     ]
    }
   ],
   "source": [
    "# Lee los valores\n",
    "# Usando input, agrega el código para leer la distancia del sol para cada planeta, considerando 2 planetas.\n",
    "primerPlaneta = input('Ingrese distancia del sol del primer planeta')\n",
    "segundoPlaneta = input('Ingrese distancia del sol del segundo planeta')\n",
    "\n",
    "# Convertir a número\n",
    "# Debido a que input devuelve valores de cadena, necesitamos convertirlos en números. Para nuestro ejemplo, usaremos int\n",
    "primerPlaneta = int(primerPlaneta)\n",
    "segundoPlaneta = int(segundoPlaneta)\n",
    "\n",
    "# Realizar el cálculo y convertir a valor absoluto\n",
    "# Con los valores almacenados como números, ahora puedes agregar el código para realizar el cálculo, restando el primer planeta del segundo. \n",
    "# Debido a que el segundo planeta podría ser un número mayor, usarás abs para convertirlo a un valor absoluto. \n",
    "# También agregarás el código para mostrar el resultado en millas multiplicando la distancia del kilómetro por 0.621\n",
    "\n",
    "disntanciaKm = abs(segundoPlaneta - primerPlaneta)\n",
    "print(f'Distancia en kilómetros: {disntanciaKm} km')\n",
    "disntanciaMi = disntanciaKm * 0.621\n",
    "print(f'Distancia en Millas: {disntanciaMi} mi')\n",
    "\n",
    "# Para probar el proyecto, ejecuta tu notebook. En la parte superior de vscode surgirá un cuadro de diálogo para que proporciones las distancias. Puede utilizar los datos de la tabla siguiente:\n",
    "\n",
    "# Planeta\tDistancia al sol\n",
    "# Mercurio\t57900000\n",
    "# Venus\t108200000\n",
    "# Tierra\t149600000\n",
    "# Marte\t227900000\n",
    "# Júpiter\t778600000\n",
    "# Saturno\t1433500000\n",
    "# Urano\t2872500000\n",
    "# Neptuno\t4495100000"
   ]
  }
 ],
 "metadata": {
  "interpreter": {
   "hash": "1871206f4ba1b5198d3cd7c957699bf88afce606f1f605cc742ab85bcf6fb622"
  },
  "kernelspec": {
   "display_name": "Python 3.10.2 64-bit",
   "language": "python",
   "name": "python3"
  },
  "language_info": {
   "codemirror_mode": {
    "name": "ipython",
    "version": 3
   },
   "file_extension": ".py",
   "mimetype": "text/x-python",
   "name": "python",
   "nbconvert_exporter": "python",
   "pygments_lexer": "ipython3",
   "version": "3.10.2"
  },
  "orig_nbformat": 4
 },
 "nbformat": 4,
 "nbformat_minor": 2
}
